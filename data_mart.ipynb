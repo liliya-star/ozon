{
 "cells": [
  {
   "cell_type": "markdown",
   "metadata": {},
   "source": [
    "## *Настройка витрины данных на основе существующей схемы PostgreSQL*\n",
    "### Витрина данных (Data Mart) создается для удобного анализа и агрегации данных. Мы будем использовать SQL-запросы для построения витрины на основе уже загруженных таблиц:\n",
    "\n",
    "- orders (заказы)\n",
    "- products_category (категории товаров)\n",
    "- order_items (позиции заказов)\n",
    "1. Определение структуры витрины\n",
    "### Витрина должна объединять данные из всех трех таблиц и содержать:\n",
    "\n",
    "- Информацию о заказах (дата покупки, дата доставки, ID клиента)\n",
    "- Информацию о товарах (категория)\n",
    "- Финансовые показатели (цена, стоимость доставки, суммарная выручка)\n",
    "- Метрики по доставке (время доставки)\n",
    "### Создадим витрину order_summary в PostgreSQL.\n",
    "\n"
   ]
  },
  {
   "cell_type": "markdown",
   "metadata": {},
   "source": [
    "### Установка и подключение библиотек"
   ]
  },
  {
   "cell_type": "code",
   "execution_count": 1,
   "metadata": {},
   "outputs": [
    {
     "name": "stdout",
     "output_type": "stream",
     "text": [
      "Requirement already satisfied: pandas in c:\\users\\лилия\\appdata\\local\\programs\\python\\python312\\lib\\site-packages (2.2.3)\n",
      "Requirement already satisfied: sqlalchemy in c:\\users\\лилия\\appdata\\local\\programs\\python\\python312\\lib\\site-packages (1.4.54)\n",
      "Requirement already satisfied: psycopg2 in c:\\users\\лилия\\appdata\\local\\programs\\python\\python312\\lib\\site-packages (2.9.10)\n",
      "Requirement already satisfied: matplotlib in c:\\users\\лилия\\appdata\\local\\programs\\python\\python312\\lib\\site-packages (3.10.0)\n",
      "Requirement already satisfied: numpy>=1.26.0 in c:\\users\\лилия\\appdata\\local\\programs\\python\\python312\\lib\\site-packages (from pandas) (2.2.0)\n",
      "Requirement already satisfied: python-dateutil>=2.8.2 in c:\\users\\лилия\\appdata\\local\\programs\\python\\python312\\lib\\site-packages (from pandas) (2.9.0.post0)\n",
      "Requirement already satisfied: pytz>=2020.1 in c:\\users\\лилия\\appdata\\local\\programs\\python\\python312\\lib\\site-packages (from pandas) (2024.2)\n",
      "Requirement already satisfied: tzdata>=2022.7 in c:\\users\\лилия\\appdata\\local\\programs\\python\\python312\\lib\\site-packages (from pandas) (2024.2)\n",
      "Requirement already satisfied: greenlet!=0.4.17 in c:\\users\\лилия\\appdata\\local\\programs\\python\\python312\\lib\\site-packages (from sqlalchemy) (3.1.1)\n",
      "Requirement already satisfied: contourpy>=1.0.1 in c:\\users\\лилия\\appdata\\local\\programs\\python\\python312\\lib\\site-packages (from matplotlib) (1.3.1)\n",
      "Requirement already satisfied: cycler>=0.10 in c:\\users\\лилия\\appdata\\local\\programs\\python\\python312\\lib\\site-packages (from matplotlib) (0.12.1)\n",
      "Requirement already satisfied: fonttools>=4.22.0 in c:\\users\\лилия\\appdata\\local\\programs\\python\\python312\\lib\\site-packages (from matplotlib) (4.55.3)\n",
      "Requirement already satisfied: kiwisolver>=1.3.1 in c:\\users\\лилия\\appdata\\local\\programs\\python\\python312\\lib\\site-packages (from matplotlib) (1.4.7)\n",
      "Requirement already satisfied: packaging>=20.0 in c:\\users\\лилия\\appdata\\local\\programs\\python\\python312\\lib\\site-packages (from matplotlib) (24.2)\n",
      "Requirement already satisfied: pillow>=8 in c:\\users\\лилия\\appdata\\local\\programs\\python\\python312\\lib\\site-packages (from matplotlib) (11.0.0)\n",
      "Requirement already satisfied: pyparsing>=2.3.1 in c:\\users\\лилия\\appdata\\local\\programs\\python\\python312\\lib\\site-packages (from matplotlib) (3.2.0)\n",
      "Requirement already satisfied: six>=1.5 in c:\\users\\лилия\\appdata\\local\\programs\\python\\python312\\lib\\site-packages (from python-dateutil>=2.8.2->pandas) (1.17.0)\n"
     ]
    }
   ],
   "source": [
    "%pip install pandas sqlalchemy psycopg2 matplotlib"
   ]
  },
  {
   "cell_type": "code",
   "execution_count": 2,
   "metadata": {},
   "outputs": [],
   "source": [
    "import pandas as pd\n",
    "from sqlalchemy import create_engine\n",
    "import matplotlib.pyplot as plt"
   ]
  },
  {
   "cell_type": "markdown",
   "metadata": {},
   "source": [
    "### Подключение к PostgreSQL"
   ]
  },
  {
   "cell_type": "code",
   "execution_count": null,
   "metadata": {},
   "outputs": [],
   "source": [
    "import pandas as pd\n",
    "from sqlalchemy import create_engine\n",
    "\n",
    "# Параметры подключения к базе данных\n",
    "db_user = \"myuser\"\n",
    "db_password = \"mypassword\"\n",
    "db_host = \"localhost\"\n",
    "db_port = \"5432\"\n",
    "db_name = \"mydatabase\"\n",
    "\n",
    "connection_string = f\"postgresql://{db_user}:{db_password}@{db_host}:{db_port}/{db_name}\"\n",
    "engine = create_engine(connection_string)\n",
    "\n",
    "# Загрузка данных из CSV\n",
    "try:\n",
    "    products_category = pd.read_csv('products_category.csv')\n",
    "    order_items = pd.read_csv('order_items.csv')\n",
    "    orders = pd.read_csv('orders.csv')\n",
    "\n",
    "    # Запись данных в PostgreSQL\n",
    "    products_category.to_sql(\"products_category\", engine, if_exists=\"replace\", index=False, method='multi')\n",
    "    order_items.to_sql(\"order_items\", engine, if_exists=\"replace\", index=False, method='multi')\n",
    "    orders.to_sql(\"orders\", engine, if_exists=\"replace\", index=False, method='multi')\n",
    "\n",
    "    print(\"Импорт завершён!\")\n",
    "except Exception as e:\n",
    "    print(f\"Произошла ошибка: {e}\")"
   ]
  },
  {
   "cell_type": "markdown",
   "metadata": {},
   "source": [
    "### Создание витрины данных"
   ]
  },
  {
   "cell_type": "code",
   "execution_count": null,
   "metadata": {},
   "outputs": [],
   "source": [
    "query = \"\"\"\n",
    "CREATE MATERIALIZED VIEW IF NOT EXISTS order_summary AS\n",
    "SELECT \n",
    "    o.order_id,\n",
    "    o.customer_id,\n",
    "    o.purchase_timestamp,\n",
    "    o.delivered_customer_date,\n",
    "    p.product_category_name,\n",
    "    oi.price,\n",
    "    oi.sales_value,\n",
    "    oi.freight_value,\n",
    "    oi.delivery_time,\n",
    "    (oi.sales_value + oi.freight_value) AS total_revenue\n",
    "FROM order_items oi\n",
    "JOIN orders o ON oi.order_id = o.order_id\n",
    "JOIN products_category p ON oi.product_id = p.product_id;\n",
    "\"\"\"\n",
    "\n",
    "with engine.connect() as conn:\n",
    "    conn.execute(query)\n",
    "    print(\"Витрина order_summary создана!\")"
   ]
  },
  {
   "cell_type": "markdown",
   "metadata": {},
   "source": [
    "### Обновление витрины (при необходимости)"
   ]
  },
  {
   "cell_type": "code",
   "execution_count": null,
   "metadata": {},
   "outputs": [],
   "source": [
    "with engine.connect() as conn:\n",
    "    conn.execute(\"REFRESH MATERIALIZED VIEW order_summary;\")\n",
    "    print(\"Витрина обновлена!\")"
   ]
  },
  {
   "cell_type": "markdown",
   "metadata": {},
   "source": [
    "### Загрузка данных из витрины"
   ]
  },
  {
   "cell_type": "code",
   "execution_count": null,
   "metadata": {},
   "outputs": [],
   "source": [
    "df = pd.read_sql(\"SELECT * FROM order_summary\", con=engine)\n",
    "df.head()"
   ]
  },
  {
   "cell_type": "markdown",
   "metadata": {},
   "source": [
    "### Визуализация данных"
   ]
  },
  {
   "cell_type": "code",
   "execution_count": null,
   "metadata": {},
   "outputs": [],
   "source": [
    "category_sales = df.groupby('product_category_name')['total_revenue'].sum()\n",
    "category_sales.sort_values(ascending=False).plot(kind='bar', figsize=(10,5), title=\"Выручка по категориям товаров\")\n",
    "plt.ylabel(\"Выручка\")\n",
    "plt.show()"
   ]
  }
 ],
 "metadata": {
  "kernelspec": {
   "display_name": "Python 3",
   "language": "python",
   "name": "python3"
  },
  "language_info": {
   "codemirror_mode": {
    "name": "ipython",
    "version": 3
   },
   "file_extension": ".py",
   "mimetype": "text/x-python",
   "name": "python",
   "nbconvert_exporter": "python",
   "pygments_lexer": "ipython3",
   "version": "3.11.4"
  }
 },
 "nbformat": 4,
 "nbformat_minor": 2
}
